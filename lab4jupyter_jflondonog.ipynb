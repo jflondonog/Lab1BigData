{
 "cells": [
  {
   "cell_type": "code",
   "execution_count": 1,
   "metadata": {},
   "outputs": [
    {
     "name": "stdout",
     "output_type": "stream",
     "text": [
      "Starting Spark application\n"
     ]
    },
    {
     "data": {
      "text/html": [
       "<table>\n",
       "<tr><th>ID</th><th>YARN Application ID</th><th>Kind</th><th>State</th><th>Spark UI</th><th>Driver log</th><th>Current session?</th></tr><tr><td>3</td><td>application_1623099928965_0005</td><td>pyspark</td><td>idle</td><td><a target=\"_blank\" href=\"http://ip-172-31-47-5.ec2.internal:20888/proxy/application_1623099928965_0005/\">Link</a></td><td><a target=\"_blank\" href=\"http://ip-172-31-41-143.ec2.internal:8042/node/containerlogs/container_1623099928965_0005_01_000001/livy\">Link</a></td><td>✔</td></tr></table>"
      ],
      "text/plain": [
       "<IPython.core.display.HTML object>"
      ]
     },
     "metadata": {},
     "output_type": "display_data"
    },
    {
     "data": {
      "application/vnd.jupyter.widget-view+json": {
       "model_id": "",
       "version_major": 2,
       "version_minor": 0
      },
      "text/plain": [
       "FloatProgress(value=0.0, bar_style='info', description='Progress:', layout=Layout(height='25px', width='50%'),…"
      ]
     },
     "metadata": {},
     "output_type": "display_data"
    },
    {
     "name": "stdout",
     "output_type": "stream",
     "text": [
      "SparkSession available as 'spark'.\n"
     ]
    },
    {
     "data": {
      "application/vnd.jupyter.widget-view+json": {
       "model_id": "",
       "version_major": 2,
       "version_minor": 0
      },
      "text/plain": [
       "FloatProgress(value=0.0, bar_style='info', description='Progress:', layout=Layout(height='25px', width='50%'),…"
      ]
     },
     "metadata": {},
     "output_type": "display_data"
    }
   ],
   "source": [
    "df=spark.read.csv('s3://st0263jflondonog/covid/',inferSchema=True,header=True)"
   ]
  },
  {
   "cell_type": "code",
   "execution_count": 2,
   "metadata": {},
   "outputs": [
    {
     "data": {
      "application/vnd.jupyter.widget-view+json": {
       "model_id": "",
       "version_major": 2,
       "version_minor": 0
      },
      "text/plain": [
       "FloatProgress(value=0.0, bar_style='info', description='Progress:', layout=Layout(height='25px', width='50%'),…"
      ]
     },
     "metadata": {},
     "output_type": "display_data"
    }
   ],
   "source": [
    "df = df.withColumnRenamed(df.columns[2], 'fechanotificacion')\n",
    "df = df.withColumnRenamed(df.columns[4], 'departamento')\n",
    "df = df.withColumnRenamed(df.columns[6], 'ciudad')\n",
    "df = df.withColumnRenamed('Edad', 'edad')\n",
    "df = df.withColumnRenamed(df.columns[0], 'fechareporte')\n",
    "df = df.withColumnRenamed(df.columns[1], 'idcaso')\n",
    "df = df.withColumnRenamed(df.columns[3], 'coddivipoladep')\n",
    "df = df.withColumnRenamed(df.columns[5], 'coddivipolaciudad')\n",
    "df = df.withColumnRenamed(df.columns[8], 'unidadmedidaedad')\n",
    "df = df.withColumnRenamed(df.columns[10], 'tipocontagio')\n",
    "df = df.withColumnRenamed(df.columns[11], 'ubicacioncaso')\n",
    "df = df.withColumnRenamed(df.columns[13], 'codISOpais')\n",
    "df = df.withColumnRenamed(df.columns[14], 'pais')\n",
    "df = df.withColumnRenamed(df.columns[16], 'fechainiciosintomas')\n",
    "df = df.withColumnRenamed(df.columns[17], 'fechamuerte')\n",
    "df = df.withColumnRenamed(df.columns[18], 'fechadiagnostico')\n",
    "df = df.withColumnRenamed(df.columns[19], 'fecharecuperacion')\n",
    "df = df.withColumnRenamed(df.columns[20], 'tiporecuperacion')\n",
    "df = df.withColumnRenamed(df.columns[21], 'pertenenciaetnica')\n",
    "df = df.withColumnRenamed(df.columns[22], 'nombregpetnico')"
   ]
  },
  {
   "cell_type": "code",
   "execution_count": 3,
   "metadata": {},
   "outputs": [
    {
     "data": {
      "application/vnd.jupyter.widget-view+json": {
       "model_id": "",
       "version_major": 2,
       "version_minor": 0
      },
      "text/plain": [
       "FloatProgress(value=0.0, bar_style='info', description='Progress:', layout=Layout(height='25px', width='50%'),…"
      ]
     },
     "metadata": {},
     "output_type": "display_data"
    },
    {
     "name": "stdout",
     "output_type": "stream",
     "text": [
      "['fechareporte', 'idcaso', 'fechanotificacion', 'coddivipoladep', 'departamento', 'coddivipolaciudad', 'ciudad', 'edad', 'unidadmedidaedad', 'Sexo', 'tipocontagio', 'ubicacioncaso', 'Estado', 'codISOpais', 'pais', 'Recuperado', 'fechainiciosintomas', 'fechamuerte', 'fechadiagnostico', 'fecharecuperacion', 'tiporecuperacion', 'pertenenciaetnica', 'nombregpetnico']"
     ]
    }
   ],
   "source": [
    "df.columns"
   ]
  },
  {
   "cell_type": "code",
   "execution_count": 4,
   "metadata": {},
   "outputs": [
    {
     "data": {
      "application/vnd.jupyter.widget-view+json": {
       "model_id": "",
       "version_major": 2,
       "version_minor": 0
      },
      "text/plain": [
       "FloatProgress(value=0.0, bar_style='info', description='Progress:', layout=Layout(height='25px', width='50%'),…"
      ]
     },
     "metadata": {},
     "output_type": "display_data"
    }
   ],
   "source": [
    "df.createOrReplaceTempView(\"covidcolombia\")"
   ]
  },
  {
   "cell_type": "code",
   "execution_count": 5,
   "metadata": {},
   "outputs": [
    {
     "data": {
      "application/vnd.jupyter.widget-view+json": {
       "model_id": "",
       "version_major": 2,
       "version_minor": 0
      },
      "text/plain": [
       "FloatProgress(value=0.0, bar_style='info', description='Progress:', layout=Layout(height='25px', width='50%'),…"
      ]
     },
     "metadata": {},
     "output_type": "display_data"
    },
    {
     "name": "stdout",
     "output_type": "stream",
     "text": [
      "+------------+-------------------+\n",
      "|departamento|count(departamento)|\n",
      "+------------+-------------------+\n",
      "|      BOGOTA|             951083|\n",
      "|   ANTIOQUIA|             536911|\n",
      "|       VALLE|             266414|\n",
      "|BARRANQUILLA|             172295|\n",
      "|CUNDINAMARCA|             159489|\n",
      "|   SANTANDER|             131547|\n",
      "|   ATLANTICO|              98667|\n",
      "|   CARTAGENA|              82165|\n",
      "|      TOLIMA|              75295|\n",
      "|      CALDAS|              70733|\n",
      "+------------+-------------------+"
     ]
    }
   ],
   "source": [
    "#4.1 10 departamentos más contagiados\n",
    "dfdpto = spark.sql(\"SELECT departamento, COUNT(departamento) FROM covidcolombia GROUP BY departamento ORDER BY COUNT(departamento) DESC LIMIT 10\")\n",
    "dfdpto.show()"
   ]
  },
  {
   "cell_type": "code",
   "execution_count": 6,
   "metadata": {},
   "outputs": [
    {
     "data": {
      "application/vnd.jupyter.widget-view+json": {
       "model_id": "",
       "version_major": 2,
       "version_minor": 0
      },
      "text/plain": [
       "FloatProgress(value=0.0, bar_style='info', description='Progress:', layout=Layout(height='25px', width='50%'),…"
      ]
     },
     "metadata": {},
     "output_type": "display_data"
    }
   ],
   "source": [
    "write_uri='s3://st0263jflondonog/lab4/4.1_csv'\n",
    "dfdpto.coalesce(1).write.format(\"csv\").option(\"header\",\"true\").save(write_uri)"
   ]
  },
  {
   "cell_type": "code",
   "execution_count": 7,
   "metadata": {},
   "outputs": [
    {
     "data": {
      "application/vnd.jupyter.widget-view+json": {
       "model_id": "",
       "version_major": 2,
       "version_minor": 0
      },
      "text/plain": [
       "FloatProgress(value=0.0, bar_style='info', description='Progress:', layout=Layout(height='25px', width='50%'),…"
      ]
     },
     "metadata": {},
     "output_type": "display_data"
    },
    {
     "name": "stdout",
     "output_type": "stream",
     "text": [
      "+------------+-------------+\n",
      "|      ciudad|count(ciudad)|\n",
      "+------------+-------------+\n",
      "|      BOGOTA|       951083|\n",
      "|    MEDELLIN|       302031|\n",
      "|        CALI|       186219|\n",
      "|BARRANQUILLA|       172295|\n",
      "|   CARTAGENA|        82165|\n",
      "| BUCARAMANGA|        58111|\n",
      "|      IBAGUE|        53481|\n",
      "|   MANIZALES|        50331|\n",
      "| SANTA MARTA|        49623|\n",
      "|     SOLEDAD|        48905|\n",
      "+------------+-------------+"
     ]
    }
   ],
   "source": [
    "dfciudad = spark.sql(\"SELECT ciudad, COUNT(ciudad) FROM covidcolombia GROUP BY ciudad ORDER BY COUNT(ciudad) DESC LIMIT 10\")\n",
    "dfciudad.show()"
   ]
  },
  {
   "cell_type": "code",
   "execution_count": 9,
   "metadata": {},
   "outputs": [
    {
     "data": {
      "application/vnd.jupyter.widget-view+json": {
       "model_id": "",
       "version_major": 2,
       "version_minor": 0
      },
      "text/plain": [
       "FloatProgress(value=0.0, bar_style='info', description='Progress:', layout=Layout(height='25px', width='50%'),…"
      ]
     },
     "metadata": {},
     "output_type": "display_data"
    }
   ],
   "source": [
    "write_uri='s3://st0263jflondonog/lab4/4.2_csv'\n",
    "dfciudad.coalesce(1).write.format(\"csv\").option(\"header\",\"true\").save(write_uri)"
   ]
  },
  {
   "cell_type": "code",
   "execution_count": 10,
   "metadata": {},
   "outputs": [
    {
     "data": {
      "application/vnd.jupyter.widget-view+json": {
       "model_id": "",
       "version_major": 2,
       "version_minor": 0
      },
      "text/plain": [
       "FloatProgress(value=0.0, bar_style='info', description='Progress:', layout=Layout(height='25px', width='50%'),…"
      ]
     },
     "metadata": {},
     "output_type": "display_data"
    },
    {
     "name": "stdout",
     "output_type": "stream",
     "text": [
      "+------------------+------------------------+\n",
      "| fechanotificacion|count(fechanotificacion)|\n",
      "+------------------+------------------------+\n",
      "| 20/1/2021 0:00:00|                   24276|\n",
      "| 12/1/2021 0:00:00|                   22400|\n",
      "| 19/4/2021 0:00:00|                   21646|\n",
      "|  4/1/2021 0:00:00|                   21619|\n",
      "| 13/1/2021 0:00:00|                   21223|\n",
      "|  5/1/2021 0:00:00|                   21172|\n",
      "| 16/4/2021 0:00:00|                   21136|\n",
      "|  7/1/2021 0:00:00|                   20803|\n",
      "|  8/1/2021 0:00:00|                   20582|\n",
      "|28/12/2020 0:00:00|                   20199|\n",
      "+------------------+------------------------+"
     ]
    }
   ],
   "source": [
    "#4.3 10 días más contagios\n",
    "dfdias = spark.sql(\"SELECT fechanotificacion, COUNT(fechanotificacion) FROM covidcolombia GROUP BY fechanotificacion ORDER BY COUNT(fechanotificacion) DESC LIMIT 10\")\n",
    "dfdias.show()"
   ]
  },
  {
   "cell_type": "code",
   "execution_count": 11,
   "metadata": {},
   "outputs": [
    {
     "data": {
      "application/vnd.jupyter.widget-view+json": {
       "model_id": "",
       "version_major": 2,
       "version_minor": 0
      },
      "text/plain": [
       "FloatProgress(value=0.0, bar_style='info', description='Progress:', layout=Layout(height='25px', width='50%'),…"
      ]
     },
     "metadata": {},
     "output_type": "display_data"
    }
   ],
   "source": [
    "write_uri='s3://st0263jflondonog/lab4/4.3_csv'\n",
    "dfdias.coalesce(1).write.format(\"csv\").option(\"header\",\"true\").save(write_uri)"
   ]
  },
  {
   "cell_type": "code",
   "execution_count": 12,
   "metadata": {},
   "outputs": [
    {
     "data": {
      "application/vnd.jupyter.widget-view+json": {
       "model_id": "",
       "version_major": 2,
       "version_minor": 0
      },
      "text/plain": [
       "FloatProgress(value=0.0, bar_style='info', description='Progress:', layout=Layout(height='25px', width='50%'),…"
      ]
     },
     "metadata": {},
     "output_type": "display_data"
    },
    {
     "name": "stdout",
     "output_type": "stream",
     "text": [
      "+----+-----------+\n",
      "|edad|count(edad)|\n",
      "+----+-----------+\n",
      "| 115|          1|\n",
      "| 114|          2|\n",
      "| 113|          1|\n",
      "| 112|          1|\n",
      "| 111|          1|\n",
      "| 110|          4|\n",
      "| 109|          3|\n",
      "| 108|          8|\n",
      "| 107|         11|\n",
      "| 106|         20|\n",
      "| 105|         18|\n",
      "| 104|         39|\n",
      "| 103|         55|\n",
      "| 102|         69|\n",
      "| 101|        135|\n",
      "| 100|        195|\n",
      "|  99|        291|\n",
      "|  98|        441|\n",
      "|  97|        509|\n",
      "|  96|        698|\n",
      "+----+-----------+\n",
      "only showing top 20 rows"
     ]
    }
   ],
   "source": [
    "#4.4 Distribución de edades\n",
    "dfedad = spark.sql(\"SELECT edad, COUNT(edad) FROM covidcolombia GROUP BY edad ORDER BY edad DESC LIMIT 120\")\n",
    "dfedad.show()"
   ]
  },
  {
   "cell_type": "code",
   "execution_count": 13,
   "metadata": {},
   "outputs": [
    {
     "data": {
      "application/vnd.jupyter.widget-view+json": {
       "model_id": "",
       "version_major": 2,
       "version_minor": 0
      },
      "text/plain": [
       "FloatProgress(value=0.0, bar_style='info', description='Progress:', layout=Layout(height='25px', width='50%'),…"
      ]
     },
     "metadata": {},
     "output_type": "display_data"
    }
   ],
   "source": [
    "write_uri='s3://st0263jflondonog/lab4/4.4_csv'\n",
    "dfedad.coalesce(1).write.format(\"csv\").option(\"header\",\"true\").save(write_uri)"
   ]
  },
  {
   "cell_type": "code",
   "execution_count": 14,
   "metadata": {},
   "outputs": [
    {
     "data": {
      "application/vnd.jupyter.widget-view+json": {
       "model_id": "",
       "version_major": 2,
       "version_minor": 0
      },
      "text/plain": [
       "FloatProgress(value=0.0, bar_style='info', description='Progress:', layout=Layout(height='25px', width='50%'),…"
      ]
     },
     "metadata": {},
     "output_type": "display_data"
    },
    {
     "name": "stdout",
     "output_type": "stream",
     "text": [
      "+----+-----------+\n",
      "|Sexo|count(Sexo)|\n",
      "+----+-----------+\n",
      "|   F|    1749504|\n",
      "|   M|    1613552|\n",
      "+----+-----------+"
     ]
    }
   ],
   "source": [
    "#4.5 Contagio por SEXO\n",
    "dfsexo = spark.sql(\"SELECT Sexo, COUNT(Sexo) FROM covidcolombia GROUP BY Sexo ORDER BY COUNT(Sexo) DESC LIMIT 2\")\n",
    "dfsexo.show()"
   ]
  },
  {
   "cell_type": "code",
   "execution_count": 15,
   "metadata": {},
   "outputs": [
    {
     "data": {
      "application/vnd.jupyter.widget-view+json": {
       "model_id": "",
       "version_major": 2,
       "version_minor": 0
      },
      "text/plain": [
       "FloatProgress(value=0.0, bar_style='info', description='Progress:', layout=Layout(height='25px', width='50%'),…"
      ]
     },
     "metadata": {},
     "output_type": "display_data"
    }
   ],
   "source": [
    "write_uri='s3://st0263jflondonog/lab4/4.5_csv'\n",
    "dfsexo.coalesce(1).write.format(\"csv\").option(\"header\",\"true\").save(write_uri)"
   ]
  },
  {
   "cell_type": "code",
   "execution_count": 16,
   "metadata": {},
   "outputs": [
    {
     "data": {
      "application/vnd.jupyter.widget-view+json": {
       "model_id": "",
       "version_major": 2,
       "version_minor": 0
      },
      "text/plain": [
       "FloatProgress(value=0.0, bar_style='info', description='Progress:', layout=Layout(height='25px', width='50%'),…"
      ]
     },
     "metadata": {},
     "output_type": "display_data"
    },
    {
     "name": "stdout",
     "output_type": "stream",
     "text": [
      "+------------+----+--------+\n",
      "|      ciudad|Sexo|count(1)|\n",
      "+------------+----+--------+\n",
      "|      BOGOTA|   F|  506094|\n",
      "|      BOGOTA|   M|  444984|\n",
      "|    MEDELLIN|   F|  161273|\n",
      "|    MEDELLIN|   M|  140758|\n",
      "|        CALI|   F|   97486|\n",
      "|BARRANQUILLA|   F|   89013|\n",
      "|        CALI|   M|   88733|\n",
      "|BARRANQUILLA|   M|   83282|\n",
      "|   CARTAGENA|   F|   42065|\n",
      "|   CARTAGENA|   M|   40100|\n",
      "+------------+----+--------+"
     ]
    }
   ],
   "source": [
    "#4.5 Cantidad de Hombres y Mujeres contagiados de mayor a menor en las ciudades de Colombia\n",
    "dfseci = spark.sql(\"SELECT ciudad, Sexo, COUNT(*) FROM covidcolombia GROUP BY ciudad, Sexo ORDER BY COUNT(*) DESC LIMIT 10\")\n",
    "dfseci.show()"
   ]
  },
  {
   "cell_type": "code",
   "execution_count": 17,
   "metadata": {},
   "outputs": [
    {
     "data": {
      "application/vnd.jupyter.widget-view+json": {
       "model_id": "",
       "version_major": 2,
       "version_minor": 0
      },
      "text/plain": [
       "FloatProgress(value=0.0, bar_style='info', description='Progress:', layout=Layout(height='25px', width='50%'),…"
      ]
     },
     "metadata": {},
     "output_type": "display_data"
    }
   ],
   "source": [
    "write_uri='s3://st0263jflondonog/lab4/4.5Extra_csv'\n",
    "dfseci.coalesce(1).write.format(\"csv\").option(\"header\",\"true\").save(write_uri)"
   ]
  },
  {
   "cell_type": "code",
   "execution_count": 18,
   "metadata": {},
   "outputs": [
    {
     "data": {
      "application/vnd.jupyter.widget-view+json": {
       "model_id": "",
       "version_major": 2,
       "version_minor": 0
      },
      "text/plain": [
       "FloatProgress(value=0.0, bar_style='info', description='Progress:', layout=Layout(height='25px', width='50%'),…"
      ]
     },
     "metadata": {},
     "output_type": "display_data"
    }
   ],
   "source": [
    "#END - Juan Felipe Londoño Gaviria"
   ]
  }
 ],
 "metadata": {
  "kernelspec": {
   "display_name": "PySpark",
   "language": "",
   "name": "pysparkkernel"
  },
  "language_info": {
   "codemirror_mode": {
    "name": "python",
    "version": 3
   },
   "mimetype": "text/x-python",
   "name": "pyspark",
   "pygments_lexer": "python3"
  }
 },
 "nbformat": 4,
 "nbformat_minor": 4
}
