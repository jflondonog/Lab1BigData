{
 "cells": [
  {
   "cell_type": "code",
   "execution_count": 53,
   "id": "aa4261b5",
   "metadata": {},
   "outputs": [
    {
     "data": {
      "application/vnd.jupyter.widget-view+json": {
       "model_id": "7bfdeadb5e6946439ed7922a58e3d3c9",
       "version_major": 2,
       "version_minor": 0
      },
      "text/plain": [
       "VBox()"
      ]
     },
     "metadata": {},
     "output_type": "display_data"
    },
    {
     "data": {
      "application/vnd.jupyter.widget-view+json": {
       "model_id": "",
       "version_major": 2,
       "version_minor": 0
      },
      "text/plain": [
       "FloatProgress(value=0.0, bar_style='info', description='Progress:', layout=Layout(height='25px', width='50%'),…"
      ]
     },
     "metadata": {},
     "output_type": "display_data"
    }
   ],
   "source": [
    "#PUNTO 1\n",
    "\n",
    "#importar SparkSession\n",
    "from pyspark.sql import SparkSession"
   ]
  },
  {
   "cell_type": "code",
   "execution_count": 2,
   "id": "291534d2",
   "metadata": {},
   "outputs": [
    {
     "data": {
      "application/vnd.jupyter.widget-view+json": {
       "model_id": "95f81ca24f0d4addb9557c009d878697",
       "version_major": 2,
       "version_minor": 0
      },
      "text/plain": [
       "VBox()"
      ]
     },
     "metadata": {},
     "output_type": "display_data"
    },
    {
     "data": {
      "application/vnd.jupyter.widget-view+json": {
       "model_id": "",
       "version_major": 2,
       "version_minor": 0
      },
      "text/plain": [
       "FloatProgress(value=0.0, bar_style='info', description='Progress:', layout=Layout(height='25px', width='50%'),…"
      ]
     },
     "metadata": {},
     "output_type": "display_data"
    }
   ],
   "source": [
    "#crear objeto del Spark Session\n",
    "spark=SparkSession.builder.appName('data_processing').getOrCreate()"
   ]
  },
  {
   "cell_type": "code",
   "execution_count": 51,
   "id": "dc87e23d",
   "metadata": {},
   "outputs": [
    {
     "data": {
      "application/vnd.jupyter.widget-view+json": {
       "model_id": "c2f4d7d5addf4059b53db6115480b7a7",
       "version_major": 2,
       "version_minor": 0
      },
      "text/plain": [
       "VBox()"
      ]
     },
     "metadata": {},
     "output_type": "display_data"
    },
    {
     "data": {
      "application/vnd.jupyter.widget-view+json": {
       "model_id": "",
       "version_major": 2,
       "version_minor": 0
      },
      "text/plain": [
       "FloatProgress(value=0.0, bar_style='info', description='Progress:', layout=Layout(height='25px', width='50%'),…"
      ]
     },
     "metadata": {},
     "output_type": "display_data"
    }
   ],
   "source": [
    "df=spark.read.csv('s3://jflondonog/st0263jflondonog/ds_hue/spark/Casos_positivos_de_COVID-19_en_Colombia.csv',inferSchema=True,header=True)"
   ]
  },
  {
   "cell_type": "code",
   "execution_count": null,
   "id": "a3465028",
   "metadata": {},
   "outputs": [],
   "source": [
    "#PUNTO 2"
   ]
  },
  {
   "cell_type": "code",
   "execution_count": 52,
   "id": "851e0746",
   "metadata": {},
   "outputs": [
    {
     "data": {
      "application/vnd.jupyter.widget-view+json": {
       "model_id": "725642b40f454d799b448a18e3faf60c",
       "version_major": 2,
       "version_minor": 0
      },
      "text/plain": [
       "VBox()"
      ]
     },
     "metadata": {},
     "output_type": "display_data"
    },
    {
     "data": {
      "application/vnd.jupyter.widget-view+json": {
       "model_id": "8c3cf791b12044aab9ec839aa37f34fd",
       "version_major": 2,
       "version_minor": 0
      },
      "text/plain": [
       "FloatProgress(value=0.0, bar_style='info', description='Progress:', layout=Layout(height='25px', width='50%'),…"
      ]
     },
     "metadata": {},
     "output_type": "display_data"
    }
   ],
   "source": [
    "df = df.withColumnRenamed(df.columns[2], 'fecha-notificacion')\n",
    "df = df.withColumnRenamed(df.columns[4], 'departamento')\n",
    "df = df.withColumnRenamed(df.columns[6], 'ciudad')\n",
    "df = df.withColumnRenamed('Edad', 'edad')\n",
    "df = df.withColumnRenamed(df.columns[0], 'fecha-reporte')\n",
    "df = df.withColumnRenamed(df.columns[1], 'id-caso')\n",
    "df = df.withColumnRenamed(df.columns[3], 'cod-divipola-dep')\n",
    "df = df.withColumnRenamed(df.columns[5], 'cod-divipola-ciudad')\n",
    "df = df.withColumnRenamed(df.columns[8], 'unidad-medida-edad')\n",
    "df = df.withColumnRenamed(df.columns[10], 'tipo-contagio')\n",
    "df = df.withColumnRenamed(df.columns[11], 'ubicacion-caso')\n",
    "df = df.withColumnRenamed(df.columns[13], 'cod-ISOpais')\n",
    "df = df.withColumnRenamed(df.columns[14], 'pais')\n",
    "df = df.withColumnRenamed(df.columns[16], 'fecha-inicio-sintomas')\n",
    "df = df.withColumnRenamed(df.columns[17], 'fecha-muerte')\n",
    "df = df.withColumnRenamed(df.columns[18], 'fecha-diagnostico')\n",
    "df = df.withColumnRenamed(df.columns[19], 'fecha-recuperacion')\n",
    "df = df.withColumnRenamed(df.columns[20], 'tipo-recuperacion')\n",
    "df = df.withColumnRenamed(df.columns[21], 'pertenencia-etnica')\n",
    "df = df.withColumnRenamed(df.columns[22], 'nombre-gpetnico')"
   ]
  },
  {
   "cell_type": "code",
   "execution_count": 6,
   "id": "a9c8b442",
   "metadata": {},
   "outputs": [
    {
     "data": {
      "application/vnd.jupyter.widget-view+json": {
       "model_id": "fd3a8938ad894097a6d5e8cf39e20218",
       "version_major": 2,
       "version_minor": 0
      },
      "text/plain": [
       "VBox()"
      ]
     },
     "metadata": {},
     "output_type": "display_data"
    },
    {
     "data": {
      "application/vnd.jupyter.widget-view+json": {
       "model_id": "",
       "version_major": 2,
       "version_minor": 0
      },
      "text/plain": [
       "FloatProgress(value=0.0, bar_style='info', description='Progress:', layout=Layout(height='25px', width='50%'),…"
      ]
     },
     "metadata": {},
     "output_type": "display_data"
    },
    {
     "name": "stdout",
     "output_type": "stream",
     "text": [
      "['fecha reporte web', 'ID de caso', 'fecha-notificacion', 'Código DIVIPOLA departamento', 'departamento', 'Código DIVIPOLA municipio', 'ciudad', 'edad', 'Unidad de medida de edad', 'Sexo', 'Tipo de contagio', 'Ubicación del caso', 'Estado', 'Código ISO del país', 'Nombre del país', 'Recuperado', 'Fecha de inicio de síntomas', 'Fecha de muerte', 'Fecha de diagnóstico', 'Fecha de recuperación', 'Tipo de recuperación', 'Pertenencia étnica', 'Nombre del grupo étnico']"
     ]
    }
   ],
   "source": [
    "#2.1 Columnas\n",
    "df.columns"
   ]
  },
  {
   "cell_type": "code",
   "execution_count": null,
   "id": "f229d7e9",
   "metadata": {},
   "outputs": [],
   "source": [
    "#2.2 Tipos de Datos\n",
    "df.printSchema()"
   ]
  },
  {
   "cell_type": "code",
   "execution_count": 8,
   "id": "830d4618",
   "metadata": {},
   "outputs": [
    {
     "data": {
      "application/vnd.jupyter.widget-view+json": {
       "model_id": "136ac421d8de4247aa77d282cf955d02",
       "version_major": 2,
       "version_minor": 0
      },
      "text/plain": [
       "VBox()"
      ]
     },
     "metadata": {},
     "output_type": "display_data"
    },
    {
     "data": {
      "application/vnd.jupyter.widget-view+json": {
       "model_id": "",
       "version_major": 2,
       "version_minor": 0
      },
      "text/plain": [
       "FloatProgress(value=0.0, bar_style='info', description='Progress:', layout=Layout(height='25px', width='50%'),…"
      ]
     },
     "metadata": {},
     "output_type": "display_data"
    },
    {
     "name": "stdout",
     "output_type": "stream",
     "text": [
      "+------+----+\n",
      "|Estado|edad|\n",
      "+------+----+\n",
      "|  Leve|  19|\n",
      "|  Leve|  34|\n",
      "|  Leve|  50|\n",
      "|  Leve|  55|\n",
      "|  Leve|  25|\n",
      "+------+----+\n",
      "only showing top 5 rows"
     ]
    }
   ],
   "source": [
    "#2.3 Seleccionar algunas columnas\n",
    "#Selecciona en este caso la columna \"Estado\" y \"Tipo\"\n",
    "df.select('Estado','edad').show(5)"
   ]
  },
  {
   "cell_type": "code",
   "execution_count": 9,
   "id": "af39964f",
   "metadata": {},
   "outputs": [
    {
     "data": {
      "application/vnd.jupyter.widget-view+json": {
       "model_id": "77dc9895b9cf4a82a6913c4b022dd784",
       "version_major": 2,
       "version_minor": 0
      },
      "text/plain": [
       "VBox()"
      ]
     },
     "metadata": {},
     "output_type": "display_data"
    },
    {
     "data": {
      "application/vnd.jupyter.widget-view+json": {
       "model_id": "",
       "version_major": 2,
       "version_minor": 0
      },
      "text/plain": [
       "FloatProgress(value=0.0, bar_style='info', description='Progress:', layout=Layout(height='25px', width='50%'),…"
      ]
     },
     "metadata": {},
     "output_type": "display_data"
    },
    {
     "name": "stdout",
     "output_type": "stream",
     "text": [
      "+-----------------+----------+------------------+----------------------------+------------+-------------------------+--------+----+------------------------+----+----------------+------------------+------+-------------------+---------------+----------+---------------------------+---------------+--------------------+---------------------+--------------------+------------------+-----------------------+----------------+\n",
      "|fecha reporte web|ID de caso|fecha-notificacion|Código DIVIPOLA departamento|departamento|Código DIVIPOLA municipio|  ciudad|edad|Unidad de medida de edad|Sexo|Tipo de contagio|Ubicación del caso|Estado|Código ISO del país|Nombre del país|Recuperado|Fecha de inicio de síntomas|Fecha de muerte|Fecha de diagnóstico|Fecha de recuperación|Tipo de recuperación|Pertenencia étnica|Nombre del grupo étnico|Edad_Al_Cuadrado|\n",
      "+-----------------+----------+------------------+----------------------------+------------+-------------------------+--------+----+------------------------+----+----------------+------------------+------+-------------------+---------------+----------+---------------------------+---------------+--------------------+---------------------+--------------------+------------------+-----------------------+----------------+\n",
      "| 6/3/2020 0:00:00|         1|  2/3/2020 0:00:00|                          11|      BOGOTA|                    11001|  BOGOTA|  19|                       1|   F|       Importado|              Casa|  Leve|                380|         ITALIA|Recuperado|          27/2/2020 0:00:00|           null|    6/3/2020 0:00:00|    13/3/2020 0:00:00|                 PCR|                 6|                   null|             361|\n",
      "| 9/3/2020 0:00:00|         2|  6/3/2020 0:00:00|                          76|       VALLE|                    76111|    BUGA|  34|                       1|   M|       Importado|              Casa|  Leve|                724|         ESPAÑA|Recuperado|           4/3/2020 0:00:00|           null|    9/3/2020 0:00:00|    19/3/2020 0:00:00|                 PCR|                 5|                   null|            1156|\n",
      "| 9/3/2020 0:00:00|         3|  7/3/2020 0:00:00|                           5|   ANTIOQUIA|                     5001|MEDELLIN|  50|                       1|   F|       Importado|              Casa|  Leve|                724|         ESPAÑA|Recuperado|          29/2/2020 0:00:00|           null|    9/3/2020 0:00:00|    15/3/2020 0:00:00|                 PCR|                 6|                   null|            2500|\n",
      "|11/3/2020 0:00:00|         4|  9/3/2020 0:00:00|                           5|   ANTIOQUIA|                     5001|MEDELLIN|  55|                       1|   M|     Relacionado|              Casa|  Leve|               null|           null|Recuperado|           6/3/2020 0:00:00|           null|   11/3/2020 0:00:00|    26/3/2020 0:00:00|                 PCR|                 6|                   null|            3025|\n",
      "|11/3/2020 0:00:00|         5|  9/3/2020 0:00:00|                           5|   ANTIOQUIA|                     5001|MEDELLIN|  25|                       1|   M|     Relacionado|              Casa|  Leve|               null|           null|Recuperado|           8/3/2020 0:00:00|           null|   11/3/2020 0:00:00|    23/3/2020 0:00:00|                 PCR|                 6|                   null|             625|\n",
      "+-----------------+----------+------------------+----------------------------+------------+-------------------------+--------+----+------------------------+----+----------------+------------------+------+-------------------+---------------+----------+---------------------------+---------------+--------------------+---------------------+--------------------+------------------+-----------------------+----------------+\n",
      "only showing top 5 rows"
     ]
    }
   ],
   "source": [
    "#2.4 agregar columnas\n",
    "\n",
    "age_square= df.withColumn(\"Edad_Al_Cuadrado\", df[\"edad\"]*df[\"edad\"])\n",
    "age_square.show(5)"
   ]
  },
  {
   "cell_type": "code",
   "execution_count": 22,
   "id": "cd3301fc",
   "metadata": {},
   "outputs": [
    {
     "data": {
      "application/vnd.jupyter.widget-view+json": {
       "model_id": "cfff5c606f624d1faeed0ec6fff875e3",
       "version_major": 2,
       "version_minor": 0
      },
      "text/plain": [
       "VBox()"
      ]
     },
     "metadata": {},
     "output_type": "display_data"
    },
    {
     "data": {
      "application/vnd.jupyter.widget-view+json": {
       "model_id": "",
       "version_major": 2,
       "version_minor": 0
      },
      "text/plain": [
       "FloatProgress(value=0.0, bar_style='info', description='Progress:', layout=Layout(height='25px', width='50%'),…"
      ]
     },
     "metadata": {},
     "output_type": "display_data"
    }
   ],
   "source": [
    "#2.5 borrar columnas\n",
    "\n",
    "#drop column of dataframe\n",
    "df_new=df.drop('Recuperado')"
   ]
  },
  {
   "cell_type": "code",
   "execution_count": 10,
   "id": "a94fc78f",
   "metadata": {},
   "outputs": [
    {
     "data": {
      "application/vnd.jupyter.widget-view+json": {
       "model_id": "5715b8140b814321b6e630e51a7b7e32",
       "version_major": 2,
       "version_minor": 0
      },
      "text/plain": [
       "VBox()"
      ]
     },
     "metadata": {},
     "output_type": "display_data"
    },
    {
     "data": {
      "application/vnd.jupyter.widget-view+json": {
       "model_id": "",
       "version_major": 2,
       "version_minor": 0
      },
      "text/plain": [
       "FloatProgress(value=0.0, bar_style='info', description='Progress:', layout=Layout(height='25px', width='50%'),…"
      ]
     },
     "metadata": {},
     "output_type": "display_data"
    },
    {
     "name": "stdout",
     "output_type": "stream",
     "text": [
      "+----+\n",
      "|Edad|\n",
      "+----+\n",
      "|  19|\n",
      "|  34|\n",
      "|  50|\n",
      "|  55|\n",
      "|  25|\n",
      "|  27|\n",
      "|  85|\n",
      "|  22|\n",
      "|  28|\n",
      "|  36|\n",
      "|  42|\n",
      "|  74|\n",
      "|  68|\n",
      "|  48|\n",
      "|  30|\n",
      "|  61|\n",
      "|  73|\n",
      "|  54|\n",
      "|  54|\n",
      "|  26|\n",
      "+----+\n",
      "only showing top 20 rows"
     ]
    }
   ],
   "source": [
    "#2.6 filtrar datos\n",
    "\n",
    "#filter the records \n",
    "df.filter(df['Estado']=='Leve').select('Edad').show()"
   ]
  },
  {
   "cell_type": "code",
   "execution_count": null,
   "id": "c96cd1f9",
   "metadata": {},
   "outputs": [],
   "source": [
    "#2.7 ejecutar alguna función UDF o lambda sobre alguna columna creando una nueva.\n",
    "\n",
    "#Create udf using python function\n",
    "brand_udf=udf(Año_Nacimiento,StringType())\n",
    "#apply udf on dataframe\n",
    "df.withColumn('Año_nacimiento',brand_udf(df['edad'])).show(10,False)"
   ]
  },
  {
   "cell_type": "code",
   "execution_count": null,
   "id": "92edb909",
   "metadata": {},
   "outputs": [],
   "source": [
    "#PUNTO 3"
   ]
  },
  {
   "cell_type": "code",
   "execution_count": 11,
   "id": "e6e4a43c",
   "metadata": {},
   "outputs": [
    {
     "data": {
      "application/vnd.jupyter.widget-view+json": {
       "model_id": "de8f3df5bde74494bd88250373a6d010",
       "version_major": 2,
       "version_minor": 0
      },
      "text/plain": [
       "VBox()"
      ]
     },
     "metadata": {},
     "output_type": "display_data"
    },
    {
     "data": {
      "application/vnd.jupyter.widget-view+json": {
       "model_id": "",
       "version_major": 2,
       "version_minor": 0
      },
      "text/plain": [
       "FloatProgress(value=0.0, bar_style='info', description='Progress:', layout=Layout(height='25px', width='50%'),…"
      ]
     },
     "metadata": {},
     "output_type": "display_data"
    },
    {
     "name": "stdout",
     "output_type": "stream",
     "text": [
      "+------------+------+\n",
      "|departamento|count |\n",
      "+------------+------+\n",
      "|BOGOTA      |951083|\n",
      "|ANTIOQUIA   |536911|\n",
      "|VALLE       |266414|\n",
      "|BARRANQUILLA|172295|\n",
      "|CUNDINAMARCA|159489|\n",
      "|SANTANDER   |131547|\n",
      "|ATLANTICO   |98667 |\n",
      "|CARTAGENA   |82165 |\n",
      "|TOLIMA      |75295 |\n",
      "|CALDAS      |70733 |\n",
      "+------------+------+\n",
      "only showing top 10 rows"
     ]
    }
   ],
   "source": [
    "#3.1 Los 10 departamentos con más casos de covid en Colombia ordenados de mayor a menor.\n",
    "df.groupBy('departamento').count().orderBy('count',ascending=False).show(10,False)\n"
   ]
  },
  {
   "cell_type": "code",
   "execution_count": 12,
   "id": "2e8cd988",
   "metadata": {},
   "outputs": [
    {
     "data": {
      "application/vnd.jupyter.widget-view+json": {
       "model_id": "974a714962ab4917bf0c25a6fd9ab5a3",
       "version_major": 2,
       "version_minor": 0
      },
      "text/plain": [
       "VBox()"
      ]
     },
     "metadata": {},
     "output_type": "display_data"
    },
    {
     "data": {
      "application/vnd.jupyter.widget-view+json": {
       "model_id": "",
       "version_major": 2,
       "version_minor": 0
      },
      "text/plain": [
       "FloatProgress(value=0.0, bar_style='info', description='Progress:', layout=Layout(height='25px', width='50%'),…"
      ]
     },
     "metadata": {},
     "output_type": "display_data"
    },
    {
     "name": "stdout",
     "output_type": "stream",
     "text": [
      "+------------+------+\n",
      "|ciudad      |count |\n",
      "+------------+------+\n",
      "|BOGOTA      |951083|\n",
      "|MEDELLIN    |302031|\n",
      "|CALI        |186219|\n",
      "|BARRANQUILLA|172295|\n",
      "|CARTAGENA   |82165 |\n",
      "|BUCARAMANGA |58111 |\n",
      "|IBAGUE      |53481 |\n",
      "|MANIZALES   |50331 |\n",
      "|SANTA MARTA |49623 |\n",
      "|SOLEDAD     |48905 |\n",
      "+------------+------+\n",
      "only showing top 10 rows"
     ]
    }
   ],
   "source": [
    "#3.2 Las 10 ciudades con más casos de covid en Colombia ordenados de mayor a menor.\n",
    "df.groupBy('ciudad').count().orderBy('count',ascending=False).show(10,False)"
   ]
  },
  {
   "cell_type": "code",
   "execution_count": 13,
   "id": "c6e20bef",
   "metadata": {},
   "outputs": [
    {
     "data": {
      "application/vnd.jupyter.widget-view+json": {
       "model_id": "08dded8bb89844df8ded1d7ca17ea610",
       "version_major": 2,
       "version_minor": 0
      },
      "text/plain": [
       "VBox()"
      ]
     },
     "metadata": {},
     "output_type": "display_data"
    },
    {
     "data": {
      "application/vnd.jupyter.widget-view+json": {
       "model_id": "",
       "version_major": 2,
       "version_minor": 0
      },
      "text/plain": [
       "FloatProgress(value=0.0, bar_style='info', description='Progress:', layout=Layout(height='25px', width='50%'),…"
      ]
     },
     "metadata": {},
     "output_type": "display_data"
    },
    {
     "name": "stdout",
     "output_type": "stream",
     "text": [
      "+------------------+-----+\n",
      "|fecha-notificacion|count|\n",
      "+------------------+-----+\n",
      "|20/1/2021 0:00:00 |24276|\n",
      "|12/1/2021 0:00:00 |22400|\n",
      "|19/4/2021 0:00:00 |21646|\n",
      "|4/1/2021 0:00:00  |21619|\n",
      "|13/1/2021 0:00:00 |21223|\n",
      "|5/1/2021 0:00:00  |21172|\n",
      "|16/4/2021 0:00:00 |21136|\n",
      "|7/1/2021 0:00:00  |20803|\n",
      "|8/1/2021 0:00:00  |20582|\n",
      "|28/12/2020 0:00:00|20199|\n",
      "+------------------+-----+\n",
      "only showing top 10 rows"
     ]
    }
   ],
   "source": [
    "#3.3 Los 10 días con más casos de covid en Colombia ordenados de mayor a menor.\n",
    "df.groupBy('fecha-notificacion').count().orderBy('count',ascending=False).show(10,False)"
   ]
  },
  {
   "cell_type": "code",
   "execution_count": 14,
   "id": "8d968fe9",
   "metadata": {},
   "outputs": [
    {
     "data": {
      "application/vnd.jupyter.widget-view+json": {
       "model_id": "318b1a1a4cc7496cbcc11d1cbdf7e501",
       "version_major": 2,
       "version_minor": 0
      },
      "text/plain": [
       "VBox()"
      ]
     },
     "metadata": {},
     "output_type": "display_data"
    },
    {
     "data": {
      "application/vnd.jupyter.widget-view+json": {
       "model_id": "",
       "version_major": 2,
       "version_minor": 0
      },
      "text/plain": [
       "FloatProgress(value=0.0, bar_style='info', description='Progress:', layout=Layout(height='25px', width='50%'),…"
      ]
     },
     "metadata": {},
     "output_type": "display_data"
    },
    {
     "name": "stdout",
     "output_type": "stream",
     "text": [
      "+----+-----+\n",
      "|edad|count|\n",
      "+----+-----+\n",
      "|115 |1    |\n",
      "|114 |2    |\n",
      "|113 |1    |\n",
      "|112 |1    |\n",
      "|111 |1    |\n",
      "|110 |4    |\n",
      "|109 |3    |\n",
      "|108 |8    |\n",
      "|107 |11   |\n",
      "|106 |20   |\n",
      "|105 |18   |\n",
      "|104 |39   |\n",
      "|103 |55   |\n",
      "|102 |69   |\n",
      "|101 |135  |\n",
      "|100 |195  |\n",
      "|99  |291  |\n",
      "|98  |441  |\n",
      "|97  |509  |\n",
      "|96  |698  |\n",
      "|95  |969  |\n",
      "|94  |1328 |\n",
      "|93  |1694 |\n",
      "|92  |2246 |\n",
      "|91  |2739 |\n",
      "|90  |3452 |\n",
      "|89  |3623 |\n",
      "|88  |4377 |\n",
      "|87  |5136 |\n",
      "|86  |5695 |\n",
      "|85  |6672 |\n",
      "|84  |6882 |\n",
      "|83  |7869 |\n",
      "|82  |8543 |\n",
      "|81  |9253 |\n",
      "|80  |10796|\n",
      "|79  |10701|\n",
      "|78  |11291|\n",
      "|77  |11830|\n",
      "|76  |12707|\n",
      "|75  |14089|\n",
      "|74  |15172|\n",
      "|73  |16399|\n",
      "|72  |17697|\n",
      "|71  |18609|\n",
      "|70  |20318|\n",
      "|69  |21533|\n",
      "|68  |23215|\n",
      "|67  |24645|\n",
      "|66  |26352|\n",
      "|65  |28046|\n",
      "|64  |30305|\n",
      "|63  |32767|\n",
      "|62  |34582|\n",
      "|61  |36551|\n",
      "|60  |40121|\n",
      "|59  |41486|\n",
      "|58  |43858|\n",
      "|57  |46418|\n",
      "|56  |47603|\n",
      "|55  |48366|\n",
      "|54  |48247|\n",
      "|53  |48555|\n",
      "|52  |49804|\n",
      "|51  |49965|\n",
      "|50  |50772|\n",
      "|49  |49834|\n",
      "|48  |49042|\n",
      "|47  |48868|\n",
      "|46  |49896|\n",
      "|45  |52245|\n",
      "|44  |54400|\n",
      "|43  |56773|\n",
      "|42  |59667|\n",
      "|41  |65279|\n",
      "|40  |68884|\n",
      "|39  |69642|\n",
      "|38  |71766|\n",
      "|37  |70866|\n",
      "|36  |73109|\n",
      "|35  |75169|\n",
      "|34  |74557|\n",
      "|33  |75203|\n",
      "|32  |78013|\n",
      "|31  |80507|\n",
      "|30  |82627|\n",
      "|29  |81998|\n",
      "|28  |82116|\n",
      "|27  |80428|\n",
      "|26  |80262|\n",
      "|25  |76570|\n",
      "|24  |73006|\n",
      "|23  |67272|\n",
      "|22  |60590|\n",
      "|21  |55837|\n",
      "|20  |49462|\n",
      "|19  |42574|\n",
      "|18  |32781|\n",
      "|17  |26292|\n",
      "|16  |23374|\n",
      "|15  |21589|\n",
      "|14  |20067|\n",
      "|13  |18577|\n",
      "|12  |17471|\n",
      "|11  |16915|\n",
      "|10  |15153|\n",
      "|9   |14322|\n",
      "|8   |13614|\n",
      "|7   |12305|\n",
      "|6   |12238|\n",
      "|5   |11709|\n",
      "|4   |11015|\n",
      "|3   |10652|\n",
      "|2   |10758|\n",
      "|1   |11987|\n",
      "+----+-----+"
     ]
    }
   ],
   "source": [
    "#3.4 Distribución de casos por edades de covid en Colombia.\n",
    "df.groupBy('edad').count().orderBy('edad',ascending=False).show(116, False)"
   ]
  },
  {
   "cell_type": "code",
   "execution_count": 15,
   "id": "5eaf3305",
   "metadata": {},
   "outputs": [
    {
     "data": {
      "application/vnd.jupyter.widget-view+json": {
       "model_id": "fdb7473695d747c09c84525d1e0b3d45",
       "version_major": 2,
       "version_minor": 0
      },
      "text/plain": [
       "VBox()"
      ]
     },
     "metadata": {},
     "output_type": "display_data"
    },
    {
     "data": {
      "application/vnd.jupyter.widget-view+json": {
       "model_id": "",
       "version_major": 2,
       "version_minor": 0
      },
      "text/plain": [
       "FloatProgress(value=0.0, bar_style='info', description='Progress:', layout=Layout(height='25px', width='50%'),…"
      ]
     },
     "metadata": {},
     "output_type": "display_data"
    },
    {
     "name": "stdout",
     "output_type": "stream",
     "text": [
      "+----+-------+\n",
      "|Sexo|count  |\n",
      "+----+-------+\n",
      "|F   |1749504|\n",
      "|M   |1613552|\n",
      "+----+-------+\n",
      "only showing top 2 rows"
     ]
    }
   ],
   "source": [
    "#3.5 Cantidad de Casos de Covid por Sexo\n",
    "df.groupBy('Sexo').count().orderBy('count',ascending=False).show(2,False)"
   ]
  },
  {
   "cell_type": "code",
   "execution_count": 16,
   "id": "b82a0637",
   "metadata": {},
   "outputs": [
    {
     "data": {
      "application/vnd.jupyter.widget-view+json": {
       "model_id": "5f57b035e06f48dc97ab49380e348dd1",
       "version_major": 2,
       "version_minor": 0
      },
      "text/plain": [
       "VBox()"
      ]
     },
     "metadata": {},
     "output_type": "display_data"
    },
    {
     "data": {
      "application/vnd.jupyter.widget-view+json": {
       "model_id": "",
       "version_major": 2,
       "version_minor": 0
      },
      "text/plain": [
       "FloatProgress(value=0.0, bar_style='info', description='Progress:', layout=Layout(height='25px', width='50%'),…"
      ]
     },
     "metadata": {},
     "output_type": "display_data"
    },
    {
     "name": "stdout",
     "output_type": "stream",
     "text": [
      "+------------+----+------+\n",
      "|      ciudad|Sexo| count|\n",
      "+------------+----+------+\n",
      "|      BOGOTA|   F|506094|\n",
      "|      BOGOTA|   M|444984|\n",
      "|    MEDELLIN|   F|161273|\n",
      "|    MEDELLIN|   M|140758|\n",
      "|        CALI|   F| 97486|\n",
      "|BARRANQUILLA|   F| 89013|\n",
      "|        CALI|   M| 88733|\n",
      "|BARRANQUILLA|   M| 83282|\n",
      "|   CARTAGENA|   F| 42065|\n",
      "|   CARTAGENA|   M| 40100|\n",
      "| BUCARAMANGA|   F| 29770|\n",
      "| BUCARAMANGA|   M| 28341|\n",
      "|      IBAGUE|   F| 27727|\n",
      "|   MANIZALES|   F| 27292|\n",
      "| SANTA MARTA|   F| 26419|\n",
      "|      IBAGUE|   M| 25754|\n",
      "|     SOLEDAD|   F| 24953|\n",
      "|  VALLEDUPAR|   F| 24561|\n",
      "|       BELLO|   F| 24443|\n",
      "|     SOLEDAD|   M| 23952|\n",
      "+------------+----+------+\n",
      "only showing top 20 rows"
     ]
    }
   ],
   "source": [
    "#3.5 EXTRA: Cantidad de Hombres y Mujeres contagiados de mayor a menor en las ciudades de Colombia\n",
    "df.groupBy('ciudad', \"Sexo\").count().orderBy('count',ascending=False).show()"
   ]
  },
  {
   "cell_type": "code",
   "execution_count": null,
   "id": "13c58d0e",
   "metadata": {},
   "outputs": [],
   "source": [
    "#GUARDAR"
   ]
  },
  {
   "cell_type": "code",
   "execution_count": 18,
   "id": "3a4adf53",
   "metadata": {},
   "outputs": [
    {
     "data": {
      "application/vnd.jupyter.widget-view+json": {
       "model_id": "df3b068ec27f4aaa84a84dbd8d0b8837",
       "version_major": 2,
       "version_minor": 0
      },
      "text/plain": [
       "VBox()"
      ]
     },
     "metadata": {},
     "output_type": "display_data"
    },
    {
     "data": {
      "application/vnd.jupyter.widget-view+json": {
       "model_id": "",
       "version_major": 2,
       "version_minor": 0
      },
      "text/plain": [
       "FloatProgress(value=0.0, bar_style='info', description='Progress:', layout=Layout(height='25px', width='50%'),…"
      ]
     },
     "metadata": {},
     "output_type": "display_data"
    }
   ],
   "source": [
    "#target directory \n",
    "write_uri='s3://jflondonog/st0263jflondonog/lab3/df_csv'"
   ]
  },
  {
   "cell_type": "code",
   "execution_count": 19,
   "id": "9302911f",
   "metadata": {},
   "outputs": [
    {
     "data": {
      "application/vnd.jupyter.widget-view+json": {
       "model_id": "01b94592dd4447f9bd50e6db69d0e257",
       "version_major": 2,
       "version_minor": 0
      },
      "text/plain": [
       "VBox()"
      ]
     },
     "metadata": {},
     "output_type": "display_data"
    },
    {
     "data": {
      "application/vnd.jupyter.widget-view+json": {
       "model_id": "",
       "version_major": 2,
       "version_minor": 0
      },
      "text/plain": [
       "FloatProgress(value=0.0, bar_style='info', description='Progress:', layout=Layout(height='25px', width='50%'),…"
      ]
     },
     "metadata": {},
     "output_type": "display_data"
    }
   ],
   "source": [
    "#save the dataframe as single csv \n",
    "df.coalesce(1).write.format(\"csv\").option(\"header\",\"true\").save(write_uri)"
   ]
  },
  {
   "cell_type": "code",
   "execution_count": 20,
   "id": "6ce641c7",
   "metadata": {},
   "outputs": [
    {
     "data": {
      "application/vnd.jupyter.widget-view+json": {
       "model_id": "0a0b9139e6a243238297ebadb0a9191e",
       "version_major": 2,
       "version_minor": 0
      },
      "text/plain": [
       "VBox()"
      ]
     },
     "metadata": {},
     "output_type": "display_data"
    },
    {
     "data": {
      "application/vnd.jupyter.widget-view+json": {
       "model_id": "",
       "version_major": 2,
       "version_minor": 0
      },
      "text/plain": [
       "FloatProgress(value=0.0, bar_style='info', description='Progress:', layout=Layout(height='25px', width='50%'),…"
      ]
     },
     "metadata": {},
     "output_type": "display_data"
    }
   ],
   "source": [
    "#target location\n",
    "parquet_uri='s3://jflondonog/st0263jflondonog/lab3/df_parquet'"
   ]
  },
  {
   "cell_type": "code",
   "execution_count": 44,
   "id": "068f04f7",
   "metadata": {},
   "outputs": [
    {
     "data": {
      "application/vnd.jupyter.widget-view+json": {
       "model_id": "f594d4001f9f4c3f97fd3852466176fd",
       "version_major": 2,
       "version_minor": 0
      },
      "text/plain": [
       "VBox()"
      ]
     },
     "metadata": {},
     "output_type": "display_data"
    },
    {
     "data": {
      "application/vnd.jupyter.widget-view+json": {
       "model_id": "",
       "version_major": 2,
       "version_minor": 0
      },
      "text/plain": [
       "FloatProgress(value=0.0, bar_style='info', description='Progress:', layout=Layout(height='25px', width='50%'),…"
      ]
     },
     "metadata": {},
     "output_type": "display_data"
    },
    {
     "name": "stdout",
     "output_type": "stream",
     "text": [
      "['fecha-reporte', 'id', 'fecha-notificacion', 'cod-departamento', 'departamento', 'cod-ciudad', 'ciudad', 'edad', 'unidad-medida-edad', 'Sexo', 'tipo-contagio', 'ubicacion-caso', 'Estado', 'cod-ISO', 'pais', 'Recuperado', 'fecha-inicio', 'fecha-muerte', 'Fecha de diagnóstico', 'Fecha de recuperación', 'Tipo de recuperación', 'Pertenencia étnica', 'Nombre del grupo étnico']"
     ]
    }
   ],
   "source": [
    "df.columns"
   ]
  },
  {
   "cell_type": "code",
   "execution_count": 50,
   "id": "68243137",
   "metadata": {},
   "outputs": [
    {
     "data": {
      "application/vnd.jupyter.widget-view+json": {
       "model_id": "b138e8bed9cd4a4394fdb7e5efc1c428",
       "version_major": 2,
       "version_minor": 0
      },
      "text/plain": [
       "VBox()"
      ]
     },
     "metadata": {},
     "output_type": "display_data"
    },
    {
     "data": {
      "application/vnd.jupyter.widget-view+json": {
       "model_id": "",
       "version_major": 2,
       "version_minor": 0
      },
      "text/plain": [
       "FloatProgress(value=0.0, bar_style='info', description='Progress:', layout=Layout(height='25px', width='50%'),…"
      ]
     },
     "metadata": {},
     "output_type": "display_data"
    }
   ],
   "source": [
    "#save the data into parquet format \n",
    "df.write.format('parquet').save(parquet_uri)"
   ]
  },
  {
   "cell_type": "code",
   "execution_count": null,
   "id": "e9232822",
   "metadata": {},
   "outputs": [],
   "source": []
  }
 ],
 "metadata": {
  "kernelspec": {
   "display_name": "PySpark",
   "language": "",
   "name": "pysparkkernel"
  },
  "language_info": {
   "codemirror_mode": {
    "name": "python",
    "version": 3
   },
   "mimetype": "text/x-python",
   "name": "pyspark",
   "pygments_lexer": "python3"
  }
 },
 "nbformat": 4,
 "nbformat_minor": 5
}
